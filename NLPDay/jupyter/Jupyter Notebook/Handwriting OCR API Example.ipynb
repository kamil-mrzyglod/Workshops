{
 "cells": [
  {
   "cell_type": "markdown",
   "metadata": {},
   "source": [
    "# Handwriting OCR API example"
   ]
  },
  {
   "cell_type": "markdown",
   "metadata": {},
   "source": [
    "### This Jupyter notebook shows you how to get started with the Cognitive Service <b>Computer Vision Handwriting OCR API</b> in Python, and how to visualize your results."
   ]
  },
  {
   "cell_type": "markdown",
   "metadata": {},
   "source": [
    "To use this notebook, you will need to get keys to <b>Computer Vision API</b>. Visit <a href=\"https://www.microsoft.com/cognitive-services/en-us/computer-vision-api\">https://www.microsoft.com/cognitive-services/en-us/computer-vision-api</a>, and then the “Try for free” button. On the “Sign in” page, use your Microsoft account to sign in and you will be able to subscribe to Computer Vision API and get free keys (Code of Conduct and TOS). After completing the sign-up process, paste your key into the variables section below. (Either the primary or the secondary key works.)"
   ]
  },
  {
   "cell_type": "code",
   "execution_count": 2,
   "metadata": {},
   "outputs": [],
   "source": [
    "import time \n",
    "import requests\n",
    "import cv2\n",
    "import operator\n",
    "import numpy as np\n",
    "\n",
    "# Import library to display results\n",
    "import matplotlib.pyplot as plt\n",
    "from matplotlib.lines import Line2D\n",
    "%matplotlib inline \n",
    "# Display images within Jupyter"
   ]
  },
  {
   "cell_type": "code",
   "execution_count": 3,
   "metadata": {},
   "outputs": [],
   "source": [
    "# Variables\n",
    "\n",
    "_url = 'https://westeurope.api.cognitive.microsoft.com/'\n",
    "_key = '6f3aec7349de47a6af3ab2183f913a3a'  #Here you have to paste your primary key\n",
    "_maxNumRetries = 10"
   ]
  },
  {
   "cell_type": "markdown",
   "metadata": {},
   "source": [
    "# Helper functions"
   ]
  },
  {
   "cell_type": "code",
   "execution_count": 4,
   "metadata": {},
   "outputs": [],
   "source": [
    "def processRequest( json, data, headers, params ):\n",
    "\n",
    "    \"\"\"\n",
    "    Helper function to process the request to Project Oxford\n",
    "\n",
    "    Parameters:\n",
    "    json: Used when processing images from its URL. See API Documentation\n",
    "    data: Used when processing image read from disk. See API Documentation\n",
    "    headers: Used to pass the key information and the data type request\n",
    "    \"\"\"\n",
    "\n",
    "    retries = 0\n",
    "    result = None\n",
    "\n",
    "    while True:\n",
    "        response = requests.request( 'post', _url, json = json, data = data, headers = headers, params = params )\n",
    "\n",
    "        if response.status_code == 429:\n",
    "            print( \"Message: %s\" % ( response.json() ) )\n",
    "            if retries <= _maxNumRetries: \n",
    "                time.sleep(1) \n",
    "                retries += 1\n",
    "                continue\n",
    "            else: \n",
    "                print( 'Error: failed after retrying!' )\n",
    "                break\n",
    "        elif response.status_code == 202:\n",
    "            result = response.headers['Operation-Location']\n",
    "        else:\n",
    "            print( \"Error code: %d\" % ( response.status_code ) )\n",
    "            print( \"Message: %s\" % ( response.json() ) )\n",
    "        break\n",
    "        \n",
    "    return result"
   ]
  },
  {
   "cell_type": "code",
   "execution_count": 5,
   "metadata": {},
   "outputs": [],
   "source": [
    "def getOCRTextResult( operationLocation, headers ):\n",
    "    \"\"\"\n",
    "    Helper function to get text result from operation location\n",
    "\n",
    "    Parameters:\n",
    "    operationLocation: operationLocation to get text result, See API Documentation\n",
    "    headers: Used to pass the key information\n",
    "    \"\"\"\n",
    "\n",
    "    retries = 0\n",
    "    result = None\n",
    "\n",
    "    while True:\n",
    "        response = requests.request('get', operationLocation, json=None, data=None, headers=headers, params=None)\n",
    "        if response.status_code == 429:\n",
    "            print(\"Message: %s\" % (response.json()))\n",
    "            if retries <= _maxNumRetries:\n",
    "                time.sleep(1)\n",
    "                retries += 1\n",
    "                continue\n",
    "            else:\n",
    "                print('Error: failed after retrying!')\n",
    "                break\n",
    "        elif response.status_code == 200:\n",
    "            result = response.json()\n",
    "        else:\n",
    "            print(\"Error code: %d\" % (response.status_code))\n",
    "            print(\"Message: %s\" % (response.json()))\n",
    "        break\n",
    "\n",
    "    return result"
   ]
  },
  {
   "cell_type": "code",
   "execution_count": 6,
   "metadata": {},
   "outputs": [],
   "source": [
    "def showResultOnImage( result, img ):\n",
    "    \n",
    "    \"\"\"Display the obtained results onto the input image\"\"\"\n",
    "    img = img[:, :, (2, 1, 0)]\n",
    "    fig, ax = plt.subplots(figsize=(12, 12))\n",
    "    ax.imshow(img, aspect='equal')\n",
    "\n",
    "    lines = result['recognitionResult']['lines']\n",
    "\n",
    "    for i in range(len(lines)):\n",
    "        words = lines[i]['words']\n",
    "        for j in range(len(words)):\n",
    "            tl = (words[j]['boundingBox'][0], words[j]['boundingBox'][1])\n",
    "            tr = (words[j]['boundingBox'][2], words[j]['boundingBox'][3])\n",
    "            br = (words[j]['boundingBox'][4], words[j]['boundingBox'][5])\n",
    "            bl = (words[j]['boundingBox'][6], words[j]['boundingBox'][7])\n",
    "            text = words[j]['text']\n",
    "            x = [tl[0], tr[0], tr[0], br[0], br[0], bl[0], bl[0], tl[0]]\n",
    "            y = [tl[1], tr[1], tr[1], br[1], br[1], bl[1], bl[1], tl[1]]\n",
    "            line = Line2D(x, y, linewidth=3.5, color='red')\n",
    "            ax.add_line(line)\n",
    "            ax.text(tl[0], tl[1] - 2, '{:s}'.format(text),\n",
    "            bbox=dict(facecolor='blue', alpha=0.5),\n",
    "            fontsize=14, color='white')\n",
    "\n",
    "    plt.axis('off')\n",
    "    plt.tight_layout()\n",
    "    plt.draw()\n",
    "    plt.show()"
   ]
  },
  {
   "cell_type": "markdown",
   "metadata": {},
   "source": [
    "# Analysis of an image stored on disk"
   ]
  },
  {
   "cell_type": "code",
   "execution_count": 7,
   "metadata": {},
   "outputs": [
    {
     "name": "stdout",
     "output_type": "stream",
     "text": [
      "Error code: 404\n",
      "Message: {'error': {'statusCode': 404, 'message': 'Resource not found'}}\n"
     ]
    }
   ],
   "source": [
    "# Load raw image file into memory\n",
    "pathToFileInDisk = r'C:\\Users\\kamz\\Desktop\\21942239_1631376610265699_1271526658_n.jpg'\n",
    "with open(pathToFileInDisk, 'rb') as f:\n",
    "    data = f.read()\n",
    "\n",
    "# Computer Vision parameters\n",
    "params = {'mode' : 'Handwritten'}\n",
    "\n",
    "headers = dict()\n",
    "headers['Ocp-Apim-Subscription-Key'] = _key\n",
    "headers['Content-Type'] = 'application/octet-stream'\n",
    "\n",
    "json = None\n",
    "\n",
    "operationLocation = processRequest(json, data, headers, params)\n",
    "\n",
    "result = None\n",
    "if (operationLocation != None):\n",
    "    headers = {}\n",
    "    headers['Ocp-Apim-Subscription-Key'] = _key\n",
    "    while True:\n",
    "        time.sleep(1)\n",
    "        result = getOCRTextResult(operationLocation, headers)\n",
    "        if result['status'] == 'Succeeded' or result['status'] == 'Failed':\n",
    "            break\n",
    "\n",
    "# Load the original image, fetched from the URL\n",
    "if result is not None and result['status'] == 'Succeeded':\n",
    "    data8uint = np.fromstring(data, np.uint8)  # Convert string to an unsigned int array\n",
    "    img = cv2.cvtColor(cv2.imdecode(data8uint, cv2.IMREAD_COLOR), cv2.COLOR_BGR2RGB)\n",
    "    showResultOnImage(result, img)"
   ]
  },
  {
   "cell_type": "markdown",
   "metadata": {},
   "source": [
    "# Analysis of an image retrieved via URL"
   ]
  },
  {
   "cell_type": "code",
   "execution_count": 10,
   "metadata": {},
   "outputs": [
    {
     "name": "stdout",
     "output_type": "stream",
     "text": [
      "Error code: 404\n",
      "Message: {'error': {'statusCode': 404, 'message': 'Resource not found'}}\n"
     ]
    }
   ],
   "source": [
    "# URL direction to image\n",
    "urlImage = 'https://nlpdayeuwstorage.blob.core.windows.net/nlpday/IMG_0090.jpeg'\n",
    "\n",
    "# Computer Vision parameters\n",
    "params = { 'mode' : 'Handwritten'}\n",
    "\n",
    "headers = dict()\n",
    "headers['Ocp-Apim-Subscription-Key'] = _key\n",
    "headers['Content-Type'] = 'application/json'\n",
    "\n",
    "json = { 'url': urlImage }\n",
    "data = None\n",
    "\n",
    "result = None\n",
    "operationLocation = processRequest(json, data, headers, params)\n",
    "if (operationLocation != None):\n",
    "    headers = {}\n",
    "    headers['Ocp-Apim-Subscription-Key'] = _key\n",
    "    while True:\n",
    "        time.sleep(1)\n",
    "        result = getOCRTextResult(operationLocation, headers)\n",
    "        if result['status'] == 'Succeeded' or result['status'] == 'Failed':\n",
    "            break\n",
    "\n",
    "if result is not None and result['status'] == 'Succeeded':\n",
    "    # Load the original image, fetched from the URL\n",
    "    arr = np.asarray( bytearray( requests.get( urlImage ).content ), dtype=np.uint8 )\n",
    "    img = cv2.cvtColor( cv2.imdecode( arr, -1 ), cv2.COLOR_BGR2RGB )\n",
    "    showResultOnImage( result, img )"
   ]
  },
  {
   "cell_type": "code",
   "execution_count": null,
   "metadata": {},
   "outputs": [],
   "source": []
  }
 ],
 "metadata": {
  "anaconda-cloud": {},
  "kernelspec": {
   "display_name": "Python 3",
   "language": "python",
   "name": "python3"
  },
  "language_info": {
   "codemirror_mode": {
    "name": "ipython",
    "version": 3
   },
   "file_extension": ".py",
   "mimetype": "text/x-python",
   "name": "python",
   "nbconvert_exporter": "python",
   "pygments_lexer": "ipython3",
   "version": "3.6.2"
  }
 },
 "nbformat": 4,
 "nbformat_minor": 1
}
